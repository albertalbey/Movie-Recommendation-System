{
 "cells": [
  {
   "cell_type": "markdown",
   "metadata": {},
   "source": [
    "# Movie Recommendation System"
   ]
  },
  {
   "cell_type": "code",
   "execution_count": 1,
   "metadata": {},
   "outputs": [],
   "source": [
    "## Importing Libraries\n",
    "import os\n",
    "import pandas as pd\n",
    "import numpy as np\n",
    "import glob\n",
    "from termcolor import colored\n",
    "import itertools\n",
    "import warnings\n",
    "warnings.filterwarnings('ignore')"
   ]
  },
  {
   "cell_type": "code",
   "execution_count": 2,
   "metadata": {},
   "outputs": [],
   "source": [
    "## Setting working directory\n",
    "path= 'E:/movies_large'\n",
    "os.chdir(path)"
   ]
  },
  {
   "cell_type": "code",
   "execution_count": 3,
   "metadata": {},
   "outputs": [
    {
     "name": "stdout",
     "output_type": "stream",
     "text": [
      "['E:/movies_large\\\\movies.csv', 'E:/movies_large\\\\ratings.csv', 'E:/movies_large\\\\users.csv']\n"
     ]
    }
   ],
   "source": [
    "## Iteratively reading the dataframes from the path provided\n",
    "filepaths=[]\n",
    "for name in glob.glob(f'{path}/*.csv'):\n",
    "    filepaths.append(name)\n",
    "print(filepaths)"
   ]
  },
  {
   "cell_type": "code",
   "execution_count": 4,
   "metadata": {},
   "outputs": [],
   "source": [
    "## Making dataframes from the individual files\n",
    "movies=pd.read_csv(filepaths[0], sep=';')\n",
    "ratings=pd.read_csv(filepaths[1], sep=';')\n",
    "users=pd.read_csv(filepaths[2], sep=';')"
   ]
  },
  {
   "cell_type": "code",
   "execution_count": 5,
   "metadata": {},
   "outputs": [
    {
     "data": {
      "text/plain": [
       "(   MovieId                     Title  Year\n",
       " 0        1  The Shawshank Redemption  1994\n",
       " 1        2           The Dark Knight  2008\n",
       " 2        3           American Beauty  1999\n",
       " 3        4  The Light Between Oceans  2016\n",
       " 4        5            Apocalypse Now  1979,\n",
       "    UserId  MovieId  Rating\n",
       " 0       1        1     5.0\n",
       " 1       1        2     4.0\n",
       " 2       1        3     2.0\n",
       " 3       1        4     1.5\n",
       " 4       1        5     4.0,\n",
       "    UserId    Name\n",
       " 0       1    Andy\n",
       " 1       2  Isabel\n",
       " 2       3    John\n",
       " 3       4  Angela\n",
       " 4       5    Will)"
      ]
     },
     "execution_count": 5,
     "metadata": {},
     "output_type": "execute_result"
    }
   ],
   "source": [
    "movies.head(5), ratings.head(5), users.head(5)"
   ]
  },
  {
   "cell_type": "code",
   "execution_count": 6,
   "metadata": {},
   "outputs": [],
   "source": [
    "## Merging all the dataframes to final dataset\n",
    "dfs=pd.DataFrame()\n",
    "dfs= pd.merge(movies, ratings, on='MovieId', how='left')\n",
    "dfs=pd.merge(dfs, users, on= 'UserId', how='left')"
   ]
  },
  {
   "cell_type": "code",
   "execution_count": 7,
   "metadata": {},
   "outputs": [
    {
     "name": "stdout",
     "output_type": "stream",
     "text": [
      "     MovieId                     Title  Year  UserId  Rating    Name\n",
      "0          1  The Shawshank Redemption  1994       1     5.0    Andy\n",
      "1          1  The Shawshank Redemption  1994       3     4.5    John\n",
      "2          1  The Shawshank Redemption  1994       7     5.0   Billy\n",
      "3          2           The Dark Knight  2008       1     4.0    Andy\n",
      "4          2           The Dark Knight  2008       4     5.0  Angela\n",
      "..       ...                       ...   ...     ...     ...     ...\n",
      "115       29        The Usual Suspects  1995       5     2.0    Will\n",
      "116       30                    Avatar  2009       2     4.0  Isabel\n",
      "117       30                    Avatar  2009       3     3.0    John\n",
      "118       30                    Avatar  2009       5     4.0    Will\n",
      "119       30                    Avatar  2009       8     2.0  Rachel\n",
      "\n",
      "[120 rows x 6 columns]\n"
     ]
    }
   ],
   "source": [
    "print(dfs)"
   ]
  },
  {
   "cell_type": "code",
   "execution_count": 8,
   "metadata": {},
   "outputs": [
    {
     "data": {
      "application/vnd.jupyter.widget-view+json": {
       "model_id": "d8e18f723d314e14a37955be0d6b84de",
       "version_major": 2,
       "version_minor": 0
      },
      "text/plain": [
       "HBox(children=(FloatProgress(value=0.0, description='Summarize dataset', max=20.0, style=ProgressStyle(descrip…"
      ]
     },
     "metadata": {},
     "output_type": "display_data"
    },
    {
     "name": "stdout",
     "output_type": "stream",
     "text": [
      "\n"
     ]
    },
    {
     "data": {
      "application/vnd.jupyter.widget-view+json": {
       "model_id": "ee34f8a6d5a04776a80339fa5d2ece83",
       "version_major": 2,
       "version_minor": 0
      },
      "text/plain": [
       "HBox(children=(FloatProgress(value=0.0, description='Generate report structure', max=1.0, style=ProgressStyle(…"
      ]
     },
     "metadata": {},
     "output_type": "display_data"
    },
    {
     "name": "stdout",
     "output_type": "stream",
     "text": [
      "\n"
     ]
    },
    {
     "data": {
      "application/vnd.jupyter.widget-view+json": {
       "model_id": "f6d46e1db71847e3a05b6002a443bbac",
       "version_major": 2,
       "version_minor": 0
      },
      "text/plain": [
       "HBox(children=(FloatProgress(value=0.0, description='Render HTML', max=1.0, style=ProgressStyle(description_wi…"
      ]
     },
     "metadata": {},
     "output_type": "display_data"
    },
    {
     "name": "stdout",
     "output_type": "stream",
     "text": [
      "\n"
     ]
    },
    {
     "data": {
      "application/vnd.jupyter.widget-view+json": {
       "model_id": "bdc2260254a34282bd82bb39bd96dac6",
       "version_major": 2,
       "version_minor": 0
      },
      "text/plain": [
       "HBox(children=(FloatProgress(value=0.0, description='Export report to file', max=1.0, style=ProgressStyle(desc…"
      ]
     },
     "metadata": {},
     "output_type": "display_data"
    },
    {
     "name": "stdout",
     "output_type": "stream",
     "text": [
      "\n"
     ]
    }
   ],
   "source": [
    "## Data Analysis using pandas profiling\n",
    "\n",
    "from pandas_profiling import ProfileReport\n",
    "prof = ProfileReport(dfs)\n",
    "prof.to_file(output_file='output.html')"
   ]
  },
  {
   "cell_type": "markdown",
   "metadata": {},
   "source": [
    "# Findings after data analysis"
   ]
  },
  {
   "cell_type": "markdown",
   "metadata": {},
   "source": [
    "### - 30 Movie titles \n",
    "### - Movies from years 1980-2017\n",
    "### - 8 movie reviewers"
   ]
  },
  {
   "cell_type": "code",
   "execution_count": 9,
   "metadata": {},
   "outputs": [
    {
     "name": "stdout",
     "output_type": "stream",
     "text": [
      "\u001b[1mMovies with highest average reviews\u001b[0m\n"
     ]
    },
    {
     "data": {
      "text/html": [
       "<div>\n",
       "<style scoped>\n",
       "    .dataframe tbody tr th:only-of-type {\n",
       "        vertical-align: middle;\n",
       "    }\n",
       "\n",
       "    .dataframe tbody tr th {\n",
       "        vertical-align: top;\n",
       "    }\n",
       "\n",
       "    .dataframe thead th {\n",
       "        text-align: right;\n",
       "    }\n",
       "</style>\n",
       "<table border=\"1\" class=\"dataframe\">\n",
       "  <thead>\n",
       "    <tr style=\"text-align: right;\">\n",
       "      <th></th>\n",
       "      <th>Rating</th>\n",
       "    </tr>\n",
       "    <tr>\n",
       "      <th>Title</th>\n",
       "      <th></th>\n",
       "    </tr>\n",
       "  </thead>\n",
       "  <tbody>\n",
       "    <tr>\n",
       "      <th>The Shawshank Redemption</th>\n",
       "      <td>4.83</td>\n",
       "    </tr>\n",
       "    <tr>\n",
       "      <th>The Dark Knight</th>\n",
       "      <td>4.67</td>\n",
       "    </tr>\n",
       "    <tr>\n",
       "      <th>Good Will Hunting</th>\n",
       "      <td>4.50</td>\n",
       "    </tr>\n",
       "    <tr>\n",
       "      <th>Batman Begins</th>\n",
       "      <td>4.50</td>\n",
       "    </tr>\n",
       "    <tr>\n",
       "      <th>A Beautiful Mind</th>\n",
       "      <td>4.12</td>\n",
       "    </tr>\n",
       "  </tbody>\n",
       "</table>\n",
       "</div>"
      ],
      "text/plain": [
       "                          Rating\n",
       "Title                           \n",
       "The Shawshank Redemption    4.83\n",
       "The Dark Knight             4.67\n",
       "Good Will Hunting           4.50\n",
       "Batman Begins               4.50\n",
       "A Beautiful Mind            4.12"
      ]
     },
     "execution_count": 9,
     "metadata": {},
     "output_type": "execute_result"
    }
   ],
   "source": [
    "print(colored('Movies with highest average reviews', attrs=['bold']))\n",
    "dfs[['Title', 'Rating']].groupby('Title').mean().sort_values(by='Rating',ascending=False)[0:5].round(2)"
   ]
  },
  {
   "cell_type": "code",
   "execution_count": 10,
   "metadata": {},
   "outputs": [
    {
     "name": "stdout",
     "output_type": "stream",
     "text": [
      "\u001b[1mMost popular movies among all the reviewers\u001b[0m\n"
     ]
    },
    {
     "data": {
      "text/html": [
       "<div>\n",
       "<style scoped>\n",
       "    .dataframe tbody tr th:only-of-type {\n",
       "        vertical-align: middle;\n",
       "    }\n",
       "\n",
       "    .dataframe tbody tr th {\n",
       "        vertical-align: top;\n",
       "    }\n",
       "\n",
       "    .dataframe thead th {\n",
       "        text-align: right;\n",
       "    }\n",
       "</style>\n",
       "<table border=\"1\" class=\"dataframe\">\n",
       "  <thead>\n",
       "    <tr style=\"text-align: right;\">\n",
       "      <th></th>\n",
       "      <th>Rating</th>\n",
       "    </tr>\n",
       "    <tr>\n",
       "      <th>Title</th>\n",
       "      <th></th>\n",
       "    </tr>\n",
       "  </thead>\n",
       "  <tbody>\n",
       "    <tr>\n",
       "      <th>Terminator 2: Judgment Day</th>\n",
       "      <td>3.25</td>\n",
       "    </tr>\n",
       "    <tr>\n",
       "      <th>Shutter Island</th>\n",
       "      <td>3.00</td>\n",
       "    </tr>\n",
       "    <tr>\n",
       "      <th>The Notebook</th>\n",
       "      <td>2.79</td>\n",
       "    </tr>\n",
       "    <tr>\n",
       "      <th>The Usual Suspects</th>\n",
       "      <td>2.58</td>\n",
       "    </tr>\n",
       "    <tr>\n",
       "      <th>American Beauty</th>\n",
       "      <td>2.44</td>\n",
       "    </tr>\n",
       "  </tbody>\n",
       "</table>\n",
       "</div>"
      ],
      "text/plain": [
       "                            Rating\n",
       "Title                             \n",
       "Terminator 2: Judgment Day    3.25\n",
       "Shutter Island                3.00\n",
       "The Notebook                  2.79\n",
       "The Usual Suspects            2.58\n",
       "American Beauty               2.44"
      ]
     },
     "execution_count": 10,
     "metadata": {},
     "output_type": "execute_result"
    }
   ],
   "source": [
    "print(colored('Most popular movies among all the reviewers', attrs=['bold']))\n",
    "dfs[['Title', 'Rating']].groupby('Title').var().sort_values(by='Rating',ascending=False)[0:5].round(2)"
   ]
  },
  {
   "cell_type": "markdown",
   "metadata": {},
   "source": [
    "### Finding the reviewers with similar reviews using Pearson Coefficient"
   ]
  },
  {
   "cell_type": "code",
   "execution_count": 11,
   "metadata": {},
   "outputs": [
    {
     "name": "stdout",
     "output_type": "stream",
     "text": [
      "\u001b[1mThe users are \u001b[0m\n",
      "['Andy' 'John' 'Billy' 'Angela' 'Rachel' 'Isabel' 'Will' 'Alicia']\n"
     ]
    }
   ],
   "source": [
    "print(colored('The users are ', attrs=['bold']))\n",
    "print(dfs['Name'].unique())"
   ]
  },
  {
   "cell_type": "code",
   "execution_count": 12,
   "metadata": {},
   "outputs": [
    {
     "name": "stdout",
     "output_type": "stream",
     "text": [
      "Enter the name of the user from the above list  Rachel\n",
      "The user whose movie recommendations is to be made is  Rachel\n"
     ]
    }
   ],
   "source": [
    "## Enter the user for whose movie recommendations has to be generated\n",
    "\n",
    "token = input('Enter the name of the user from the above list  ')\n",
    "\n",
    "if token not in dfs['Name'].unique():\n",
    "    print('Invalid entry, retry')\n",
    "else:\n",
    "    print('The user whose movie recommendations is to be made is ', token)\n",
    "\n",
    "name_combinations=[]\n",
    "for comb in itertools.combinations(list(dfs['Name'].unique()), 2): ##making all possible user combinations\n",
    "    name_combinations.append(comb)\n",
    "    \n",
    "name_combinations=set(name_combinations) ## removing cases of same names in the list\n",
    "\n",
    "name_combinations= [x for x in name_combinations if token  in x] ## selecting only combinations of reviewers with given input"
   ]
  },
  {
   "cell_type": "code",
   "execution_count": 13,
   "metadata": {},
   "outputs": [],
   "source": [
    "''' Function to generate most recommended movie for the given user\n",
    "    \n",
    "    Parmeters: \n",
    "    df- either the correlation or eucledian datframe calculated for the user\n",
    "    token- the user for whom recommendation is made\n",
    "'''\n",
    "\n",
    "def movie_finder(df, token):\n",
    "    \n",
    "    \n",
    "    ## To find the similarity measuring parameter column\n",
    "    if 'Correlation' in df.columns:\n",
    "        score= 'Correlation'\n",
    "    else:\n",
    "        score= 'Similarity'\n",
    "    \n",
    "    ##finding the correlation or similarity score of users other than the inputted\n",
    "    df['combined_names']=df.apply(lambda x: list([x['Name1'],x['Name2']]),axis=1)\n",
    "    df=df.rename(columns= {'combined_names': 'Name'})\n",
    "    df['Name']= df.Name.apply(lambda x: [i for i in x if i != token])\n",
    "    df=df.explode('Name')\n",
    "\n",
    "    ## calculating the weighted score by multiplying the rating with the score\n",
    "    weighted_avg=pd.merge(df,dfs[['Name','Rating','Title']], on='Name')\n",
    "    weighted_avg['Weighted_Rating']= weighted_avg['Rating']*weighted_avg[score]\n",
    "    weighted_avg[weighted_avg['Weighted_Rating'] < 0] =0 ## ommitting negative scores\n",
    "    weighted_avg=weighted_avg.sort_values('Weighted_Rating', ascending= False)\n",
    "    movie_list=weighted_avg['Title'].unique() ##list of movies in descending order of weighted rating\n",
    "    print(colored(f'The most recommended movie for the user {token} are:', attrs=['bold']))\n",
    "    print(set(movie_list[0:5])) ## best 5 movies of the list"
   ]
  },
  {
   "cell_type": "code",
   "execution_count": 14,
   "metadata": {},
   "outputs": [],
   "source": [
    "''' Function to measure eucledian distance of two reviewers\n",
    "    \n",
    "    Parameters:\n",
    "    user1, user2- names of the users whose correlation matrix of their movie ratings is to calculated\n",
    "'''\n",
    "\n",
    "def correl(user1, user2):\n",
    "    while user1 != user2: ## names for user1 and user2 must not be the same\n",
    "        ## making movies and ratings dataframes for the two users\n",
    "        df1= dfs[[['Name','Title','Rating']]&(dfs['Name']== user1)].sort_values(by='Title',ascending=True).rename(columns={'Rating':f'{user1}_Rating'}) \n",
    "        df2= dfs[[['Name','Title','Rating']]&(dfs['Name']== user2)].sort_values(by='Title',ascending=True).rename(columns={'Rating':f'{user2}_Rating'})\n",
    "        dff= pd.merge(df1,df2, on='Title', how='inner') ##merging the review dataframes based on the same movie title\n",
    "        correl= dff[[f'{user1}_Rating', f'{user2}_Rating']]\n",
    "        return(correl.corr().min()[0]) ##returns mean of the similarity score"
   ]
  },
  {
   "cell_type": "code",
   "execution_count": 15,
   "metadata": {},
   "outputs": [
    {
     "name": "stdout",
     "output_type": "stream",
     "text": [
      "\u001b[1mMost similar reviewers\u001b[0m\n",
      "\n",
      "\n",
      "    Name1   Name2  Correlation\n",
      "0    Andy  Rachel         0.58\n",
      "1  Angela  Rachel         0.56\n",
      "2  Rachel    Will         0.35\n",
      "3  Rachel  Alicia        -0.07\n",
      "4  Rachel  Isabel        -0.26\n",
      "5    John  Rachel        -0.33\n",
      "6   Billy  Rachel        -0.41\n",
      "\n",
      "\n",
      "\u001b[1mThe most recommended movie for the user Rachel are:\u001b[0m\n",
      "{'The Dark Knight', 'Platoon', 'The Shawshank Redemption', 'The Usual Suspects', 'Inglourious Basterds'}\n",
      "\n",
      "\n"
     ]
    }
   ],
   "source": [
    "## Generating the dataframes of two reviewers and the correlation of reviews\n",
    "print(colored('Most similar reviewers', attrs=['bold']))\n",
    "corr_list=[]\n",
    "\n",
    "for name in name_combinations:\n",
    "    corr_list.append([name[0], name[1], correl(name[0], name[1])]) ## appending list of columns of reviewers and correlation of the reviewers\n",
    "    \n",
    "correlations=pd.DataFrame(corr_list, columns=['Name1','Name2', 'Correlation']) ## converting lists to dataframe\n",
    "correlations= correlations.dropna(axis=0) ## droping columns with NA (NA is for correlation of same reviews)\n",
    "correlations=correlations.sort_values(by='Correlation', ascending= False).round(2).reset_index(drop=True) ##arranging in descending and order and rounding an dataframe to last two decimals\n",
    "\n",
    "print('\\n')\n",
    "print(correlations)\n",
    "print('\\n')\n",
    "movie_finder(correlations, token)\n",
    "print('\\n')"
   ]
  },
  {
   "cell_type": "markdown",
   "metadata": {},
   "source": [
    "### Finding the reviewers with similar reviews using  euclidean distance"
   ]
  },
  {
   "cell_type": "code",
   "execution_count": 16,
   "metadata": {},
   "outputs": [],
   "source": [
    "''' Function to measure eucledian distance of two reviewers\n",
    "    Parameters:\n",
    "    user1, user2- names of the users whose similarity of their movie ratings is to calculated\n",
    "'''\n",
    "\n",
    "def eucledian(user1, user2):\n",
    "    while user1 != user2: ## names for user1 and user2 must not be the same\n",
    "        ## making movies and ratings dataframes for the two users\n",
    "        df1= dfs[[['Name','Title','Rating']]&(dfs['Name']== user1)].sort_values(by='Title',ascending=True).rename(columns={'Rating':f'{user1}_Rating'}) \n",
    "        df2= dfs[[['Name','Title','Rating']]&(dfs['Name']== user2)].sort_values(by='Title',ascending=True).rename(columns={'Rating':f'{user2}_Rating'})\n",
    "        dff= pd.merge(df1,df2, on='Title', how='inner') ##merging the review dataframes based on the same movie title\n",
    "        eu= dff[[f'{user1}_Rating', f'{user2}_Rating']]\n",
    "        eu['Similarity']= 1/(1+(eu[f'{user1}_Rating']- eu[f'{user2}_Rating'])**2) ## column with similarity score for each ,ovie\n",
    "        return eu['Similarity'].mean() ##returns mean of the similarity score"
   ]
  },
  {
   "cell_type": "code",
   "execution_count": 18,
   "metadata": {},
   "outputs": [
    {
     "name": "stdout",
     "output_type": "stream",
     "text": [
      "\u001b[1mMost similar reviewers\u001b[0m\n",
      "\n",
      "\n",
      "    Name1   Name2  Similarity\n",
      "0   Billy  Rachel        0.52\n",
      "1    Andy  Rachel        0.47\n",
      "2  Rachel  Alicia        0.43\n",
      "3  Angela  Rachel        0.36\n",
      "4  Rachel    Will        0.34\n",
      "5    John  Rachel        0.31\n",
      "6  Rachel  Isabel        0.27\n",
      "\n",
      "\n",
      "\u001b[1mThe most recommended movie for the user Rachel are:\u001b[0m\n",
      "{'The Departed', 'Platoon', 'The Shawshank Redemption', 'The Usual Suspects', 'Inglourious Basterds'}\n",
      "\n",
      "\n"
     ]
    }
   ],
   "source": [
    "print(colored('Most similar reviewers', attrs=['bold']))\n",
    "eu_list=[]\n",
    "\n",
    "for name in name_combinations:\n",
    "    eu_list.append([name[0], name[1], eucledian(name[0], name[1])]) ## appending list of columns of reviewers and correlation of the reviewers\n",
    "\n",
    "eu=pd.DataFrame(eu_list, columns=['Name1','Name2', 'Similarity']) ## converting lists to dataframe\n",
    "eu= eu.dropna(axis=0) ## droping columns with NA (NA is for correlation of same reviews)\n",
    "eu= eu.sort_values(by='Similarity', ascending= False).round(2).reset_index(drop=True) ##arranging in descending and order and rounding an dataframe to last two decimals\n",
    "\n",
    "print('\\n')\n",
    "print(eu)\n",
    "print('\\n')\n",
    "movie_finder(eu, token)\n",
    "print('\\n')"
   ]
  },
  {
   "cell_type": "code",
   "execution_count": null,
   "metadata": {},
   "outputs": [],
   "source": []
  }
 ],
 "metadata": {
  "kernelspec": {
   "display_name": "Python 3",
   "language": "python",
   "name": "python3"
  },
  "language_info": {
   "codemirror_mode": {
    "name": "ipython",
    "version": 3
   },
   "file_extension": ".py",
   "mimetype": "text/x-python",
   "name": "python",
   "nbconvert_exporter": "python",
   "pygments_lexer": "ipython3",
   "version": "3.7.7"
  }
 },
 "nbformat": 4,
 "nbformat_minor": 4
}